{
  "nbformat": 4,
  "nbformat_minor": 0,
  "metadata": {
    "colab": {
      "provenance": [],
      "mount_file_id": "1UrbYsjICHDGhA2kSg8pnBqqHqaND8jx7",
      "authorship_tag": "ABX9TyNflJDSQ3CtL0HIZp/Vu3UU",
      "include_colab_link": true
    },
    "kernelspec": {
      "name": "python3",
      "display_name": "Python 3"
    },
    "language_info": {
      "name": "python"
    }
  },
  "cells": [
    {
      "cell_type": "markdown",
      "metadata": {
        "id": "view-in-github",
        "colab_type": "text"
      },
      "source": [
        "<a href=\"https://colab.research.google.com/github/sarajaved797/Walmart-Retail-Sales-Forecasting/blob/master/Datamerge.ipynb\" target=\"_parent\"><img src=\"https://colab.research.google.com/assets/colab-badge.svg\" alt=\"Open In Colab\"/></a>"
      ]
    },
    {
      "cell_type": "markdown",
      "source": [
        "# ===========================\n",
        "# 📦 1. Project Overview\n",
        "# ===========================\n",
        "\"\"\"\n",
        "## 🧠 Project Overview\n",
        "\n",
        "This notebook explores Walmart’s weekly retail sales data from 2010 to 2012 across multiple stores and departments. The goal is to identify key trends, measure the impact of holidays and economic conditions, and develop a short-term forecasting model.\n",
        "\n",
        "With weekly granularity and department-level breakdowns, the dataset offers a great foundation for high-frequency sales forecasting that can inform real-world retail decisions like inventory, promotions, and labor planning.\n",
        "\"\"\"\n"
      ],
      "metadata": {
        "id": "KIq6jyhnUMSv"
      }
    },
    {
      "cell_type": "code",
      "source": [
        "import pandas as pd\n",
        "from pathlib import Path\n",
        "\n",
        "# Set paths\n",
        "raw_path = Path(\"/content/drive/MyDrive/AI ML SQL Excel projects/Walmat Sales Forecasting Time series project/Datasets main/walmart-recruiting-store-sales-forecasting/Raw data\")\n",
        "processed_path = Path(\"/content/drive/MyDrive/AI ML SQL Excel projects/Walmat Sales Forecasting Time series project/Datasets main/walmart-recruiting-store-sales-forecasting/Prcoessed Data\")\n",
        "\n",
        "# Load raw CSVs\n",
        "train = pd.read_csv(raw_path / \"/content/drive/MyDrive/AI ML SQL Excel projects/Walmat Sales Forecasting Time series project/Datasets main/walmart-recruiting-store-sales-forecasting/Raw data/train.csv\")\n",
        "test = pd.read_csv(raw_path / \"/content/drive/MyDrive/AI ML SQL Excel projects/Walmat Sales Forecasting Time series project/Datasets main/walmart-recruiting-store-sales-forecasting/Raw data/test.csv\")\n",
        "features = pd.read_csv(raw_path / \"/content/drive/MyDrive/AI ML SQL Excel projects/Walmat Sales Forecasting Time series project/Datasets main/walmart-recruiting-store-sales-forecasting/Raw data/features.csv\")\n",
        "stores = pd.read_csv(raw_path / \"/content/drive/MyDrive/AI ML SQL Excel projects/Walmat Sales Forecasting Time series project/Datasets main/walmart-recruiting-store-sales-forecasting/Raw data/stores.csv\")\n",
        "\n",
        "# Merge train data\n",
        "train_merged = train.merge(features, on=[\"Store\", \"Date\", \"IsHoliday\"], how=\"left\")\n",
        "train_merged = train_merged.merge(stores, on=\"Store\", how=\"left\")\n",
        "\n",
        "# Merge test data\n",
        "test_merged = test.merge(features, on=[\"Store\", \"Date\", \"IsHoliday\"], how=\"left\")\n",
        "test_merged = test_merged.merge(stores, on=\"Store\", how=\"left\")\n",
        "\n",
        "# Save processed CSVs\n",
        "processed_path.mkdir(parents=True, exist_ok=True)\n",
        "train_merged.to_csv(processed_path / \"train_combined.csv\", index=False)\n",
        "test_merged.to_csv(processed_path / \"test_combined.csv\", index=False)\n",
        "\n",
        "print(\"✅ Done! Merged and saved train/test.\")\n"
      ],
      "metadata": {
        "colab": {
          "base_uri": "https://localhost:8080/"
        },
        "id": "Daqkfe2Tjiwr",
        "outputId": "3aa2d5d5-8b5b-40c3-9eb1-2dc7edad3ff0"
      },
      "execution_count": null,
      "outputs": [
        {
          "output_type": "stream",
          "name": "stdout",
          "text": [
            "✅ Done! Merged and saved train/test.\n"
          ]
        }
      ]
    },
    {
      "cell_type": "code",
      "source": [],
      "metadata": {
        "id": "ejsGmMdnmxU6"
      },
      "execution_count": null,
      "outputs": []
    }
  ]
}